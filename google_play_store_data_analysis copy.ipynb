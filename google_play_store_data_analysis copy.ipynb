{
 "cells": [
  {
   "cell_type": "markdown",
   "id": "6bd7c549",
   "metadata": {},
   "source": [
    "# Google Play Store Data Analysis - Training"
   ]
  },
  {
   "cell_type": "markdown",
   "id": "60a5982d",
   "metadata": {},
   "source": [
    "> ## 📦 1. Importing Libraries"
   ]
  },
  {
   "cell_type": "code",
   "execution_count": 691,
   "id": "a2d4515d",
   "metadata": {},
   "outputs": [],
   "source": [
    "import numpy as np\n",
    "import pandas as pd\n",
    "import plotly.express as px\n",
    "import plotly.io as pio\n",
    "from sklearn.model_selection import train_test_split\n",
    "from sklearn.ensemble import RandomForestRegressor\n",
    "from sklearn.metrics import mean_squared_error, r2_score\n",
    "from nltk.sentiment.vader import SentimentIntensityAnalyzer\n",
    "import nltk\n",
    "import webbrowser\n",
    "import os"
   ]
  },
  {
   "cell_type": "code",
   "execution_count": null,
   "id": "3f49408b",
   "metadata": {},
   "outputs": [],
   "source": [
    "nltk.download('vader_lexicon')"
   ]
  },
  {
   "cell_type": "markdown",
   "id": "02c817c5",
   "metadata": {},
   "source": [
    "> ## 📁 2. Data Loading"
   ]
  },
  {
   "cell_type": "code",
   "execution_count": null,
   "id": "517e1421",
   "metadata": {},
   "outputs": [],
   "source": [
    "app_df = pd.read_csv('.\\Play Store Data.csv')\n",
    "app_df.head()"
   ]
  },
  {
   "cell_type": "code",
   "execution_count": null,
   "id": "80e39330",
   "metadata": {},
   "outputs": [],
   "source": [
    "reviews_df = pd.read_csv('.\\\\User Reviews.csv')\n",
    "reviews_df.head()"
   ]
  },
  {
   "cell_type": "markdown",
   "id": "6e690b93",
   "metadata": {},
   "source": [
    "> * Missing values"
   ]
  },
  {
   "cell_type": "code",
   "execution_count": null,
   "id": "3f58ab2f",
   "metadata": {},
   "outputs": [],
   "source": [
    "app_df.isnull()"
   ]
  },
  {
   "cell_type": "code",
   "execution_count": null,
   "id": "ffecf965",
   "metadata": {},
   "outputs": [],
   "source": [
    "reviews_df.isnull()"
   ]
  },
  {
   "cell_type": "markdown",
   "id": "1b5a39b0",
   "metadata": {},
   "source": [
    "> ## 🧹 3. Data Cleaning & Preprocessing"
   ]
  },
  {
   "cell_type": "code",
   "execution_count": 697,
   "id": "f8fdcc8a",
   "metadata": {},
   "outputs": [],
   "source": [
    "app_df = app_df.dropna(subset = ['Rating'])"
   ]
  },
  {
   "cell_type": "code",
   "execution_count": null,
   "id": "51693f47",
   "metadata": {},
   "outputs": [],
   "source": [
    "for column in app_df.columns:\n",
    "    app_df[column].fillna(app_df[column].mode()[0], inplace = True)\n",
    "\n",
    "app_df.drop_duplicates(inplace = True)\n",
    "\n",
    "app_df = app_df[app_df['Rating']<=5]"
   ]
  },
  {
   "cell_type": "code",
   "execution_count": 699,
   "id": "1364cd82",
   "metadata": {},
   "outputs": [],
   "source": [
    "reviews_df.dropna(subset=['Translated_Review'],inplace=True)"
   ]
  },
  {
   "cell_type": "code",
   "execution_count": null,
   "id": "f9406e1b",
   "metadata": {},
   "outputs": [],
   "source": [
    "app_df.dtypes"
   ]
  },
  {
   "cell_type": "markdown",
   "id": "0c904327",
   "metadata": {},
   "source": [
    "* Removing + and , from the Install column of app_df"
   ]
  },
  {
   "cell_type": "code",
   "execution_count": 608,
   "id": "2c905f0f",
   "metadata": {},
   "outputs": [],
   "source": [
    "#Convert the Installs columns to numeric by removing commas and +\n",
    "app_df['Installs']=app_df['Installs'].str.replace(',','').str.replace('+','').astype(int)"
   ]
  },
  {
   "cell_type": "code",
   "execution_count": 702,
   "id": "6e817ac0",
   "metadata": {},
   "outputs": [],
   "source": [
    "#Convert Price column to numeric after removing $\n",
    "app_df['Price']=app_df['Price'].str.replace('$','').astype(float)"
   ]
  },
  {
   "cell_type": "code",
   "execution_count": null,
   "id": "025a6de5",
   "metadata": {},
   "outputs": [],
   "source": [
    "app_df.dtypes"
   ]
  },
  {
   "cell_type": "markdown",
   "id": "5fd49032",
   "metadata": {},
   "source": [
    "* Merging both app and review table by inner join on App column"
   ]
  },
  {
   "cell_type": "code",
   "execution_count": 704,
   "id": "d23331b8",
   "metadata": {},
   "outputs": [],
   "source": [
    "merged_df=pd.merge(app_df,reviews_df,on='App',how='inner')"
   ]
  },
  {
   "cell_type": "code",
   "execution_count": null,
   "id": "9c65b4c1",
   "metadata": {},
   "outputs": [],
   "source": [
    "merged_df.head()"
   ]
  },
  {
   "cell_type": "markdown",
   "id": "0cb358f8",
   "metadata": {},
   "source": [
    "> ## 🔄 4. Data Transformation"
   ]
  },
  {
   "cell_type": "markdown",
   "id": "2a0842c3",
   "metadata": {},
   "source": [
    "* Transformation on Size column"
   ]
  },
  {
   "cell_type": "code",
   "execution_count": 706,
   "id": "09e5c3b3",
   "metadata": {},
   "outputs": [],
   "source": [
    "def convert_size(size):\n",
    "    if 'M' in size:\n",
    "        return float(size.replace('M',''))\n",
    "    elif 'k' in size:\n",
    "        return float(size.replace('k',''))/1024\n",
    "    else:\n",
    "        return np.nan\n",
    "app_df['Size']=app_df['Size'].apply(convert_size)"
   ]
  },
  {
   "cell_type": "code",
   "execution_count": null,
   "id": "03635d97",
   "metadata": {},
   "outputs": [],
   "source": [
    "app_df.head()"
   ]
  },
  {
   "cell_type": "code",
   "execution_count": 708,
   "id": "6b57320a",
   "metadata": {},
   "outputs": [],
   "source": [
    "#Lograrithmic\n",
    "app_df['Log_Installs']=np.log(app_df['Installs'])"
   ]
  },
  {
   "cell_type": "markdown",
   "id": "44ffb47a",
   "metadata": {},
   "source": [
    "* conver float 'Review' column in to int"
   ]
  },
  {
   "cell_type": "code",
   "execution_count": 616,
   "id": "3d7fb4f2",
   "metadata": {},
   "outputs": [],
   "source": [
    "app_df['Reviews']=app_df['Reviews'].astype(int)"
   ]
  },
  {
   "cell_type": "code",
   "execution_count": null,
   "id": "1edc7781",
   "metadata": {},
   "outputs": [],
   "source": [
    "app_df.dtypes"
   ]
  },
  {
   "cell_type": "code",
   "execution_count": 711,
   "id": "28596aea",
   "metadata": {},
   "outputs": [],
   "source": [
    "app_df['Log_Reviews']=np.log(app_df['Reviews'])"
   ]
  },
  {
   "cell_type": "code",
   "execution_count": null,
   "id": "3bd1d35c",
   "metadata": {},
   "outputs": [],
   "source": [
    "app_df.dtypes"
   ]
  },
  {
   "cell_type": "code",
   "execution_count": 713,
   "id": "773c6cf8",
   "metadata": {},
   "outputs": [],
   "source": [
    "def rating_group(rating):\n",
    "    if rating >= 4:\n",
    "        return 'Top rated app'\n",
    "    elif rating >=3:\n",
    "        return 'Above average'\n",
    "    elif rating >=2:\n",
    "        return 'Average'\n",
    "    else:\n",
    "        return 'Below Average'\n",
    "app_df['Rating_Group']=app_df['Rating'].apply(rating_group)"
   ]
  },
  {
   "cell_type": "code",
   "execution_count": 714,
   "id": "153934f2",
   "metadata": {},
   "outputs": [],
   "source": [
    "#Revenue column\n",
    "app_df['Revenue']=app_df['Price']*app_df['Installs']"
   ]
  },
  {
   "cell_type": "markdown",
   "id": "95976249",
   "metadata": {},
   "source": [
    "## 🧮 5. Sentiment Analysis NLP"
   ]
  },
  {
   "cell_type": "code",
   "execution_count": 622,
   "id": "fca960e2",
   "metadata": {},
   "outputs": [],
   "source": [
    "sia = SentimentIntensityAnalyzer() # a pre trained mode on Sentiments"
   ]
  },
  {
   "cell_type": "markdown",
   "id": "e9948215",
   "metadata": {},
   "source": [
    "- Polarity Scores in Sentiment Intensity Analyzer\n",
    "    * Positive, \n",
    "    * Negative, \n",
    "    * Neutralm\n",
    "    * Compound: -1 - Very negative ; +1 - Very positive"
   ]
  },
  {
   "cell_type": "code",
   "execution_count": null,
   "id": "b1890bf0",
   "metadata": {},
   "outputs": [],
   "source": [
    "# example\n",
    "review = \"This app is amazing! I love the new features.\"\n",
    "sentiment_score= sia.polarity_scores(review)\n",
    "print(sentiment_score)"
   ]
  },
  {
   "cell_type": "code",
   "execution_count": null,
   "id": "75002c74",
   "metadata": {},
   "outputs": [],
   "source": [
    "review = \"This app is very bad! I hate the new features.\"\n",
    "sentiment_score= sia.polarity_scores(review)\n",
    "print(sentiment_score)"
   ]
  },
  {
   "cell_type": "code",
   "execution_count": null,
   "id": "98c2caea",
   "metadata": {},
   "outputs": [],
   "source": [
    "review = \"This app is okay.\"\n",
    "sentiment_score= sia.polarity_scores(review)\n",
    "print(sentiment_score)"
   ]
  },
  {
   "cell_type": "markdown",
   "id": "af5acf5f",
   "metadata": {},
   "source": [
    "---"
   ]
  },
  {
   "cell_type": "code",
   "execution_count": 719,
   "id": "b2870981",
   "metadata": {},
   "outputs": [],
   "source": [
    "reviews_df['Sentiment_Score']=reviews_df['Translated_Review'].apply(lambda x: sia.polarity_scores(str(x))['compound'])"
   ]
  },
  {
   "cell_type": "code",
   "execution_count": null,
   "id": "7d575bb2",
   "metadata": {},
   "outputs": [],
   "source": [
    "reviews_df.head()"
   ]
  },
  {
   "cell_type": "code",
   "execution_count": null,
   "id": "5ccc383f",
   "metadata": {},
   "outputs": [],
   "source": [
    "app_df['Last Updated']=pd.to_datetime(app_df['Last Updated'],errors='coerce')\n",
    "app_df['Year']=app_df['Last Updated'].dt.year\n",
    "app_df.head()"
   ]
  },
  {
   "cell_type": "markdown",
   "id": "50045cb7",
   "metadata": {},
   "source": [
    "> ## 📊 6. Plotly"
   ]
  },
  {
   "cell_type": "code",
   "execution_count": 722,
   "id": "bd327095",
   "metadata": {},
   "outputs": [],
   "source": [
    "html_files_path=\"./\"\n",
    "if not os.path.exists(html_files_path):\n",
    "    os.makedirs(html_files_path)"
   ]
  },
  {
   "cell_type": "code",
   "execution_count": 723,
   "id": "53321db3",
   "metadata": {},
   "outputs": [],
   "source": [
    "plot_containers=\"\""
   ]
  },
  {
   "cell_type": "code",
   "execution_count": 724,
   "id": "997cf64a",
   "metadata": {},
   "outputs": [],
   "source": [
    "# Save each Plotly figure to an HTML file\n",
    "def save_plot_as_html(fig, filename, insight):\n",
    "    global plot_containers\n",
    "    filepath = os.path.join(html_files_path, filename)\n",
    "    html_content = pio.to_html(fig, full_html=False, include_plotlyjs='inline')\n",
    "    # Append the plot and its insight to plot_containers\n",
    "    plot_containers += f\"\"\"\n",
    "    <div class=\"plot-container\" id=\"{filename}\" onclick=\"openPlot('{filename}')\">\n",
    "        <div class=\"plot\">{html_content}</div>\n",
    "        <div class=\"insights\">{insight}</div>\n",
    "    </div>\n",
    "    \"\"\"\n",
    "    fig.write_html(filepath, full_html=False, include_plotlyjs='inline')"
   ]
  },
  {
   "cell_type": "code",
   "execution_count": 725,
   "id": "9b152b87",
   "metadata": {},
   "outputs": [],
   "source": [
    "plot_width=400\n",
    "plot_height=300\n",
    "plot_bg_color='black'\n",
    "text_color='white'\n",
    "title_font={'size':16}\n",
    "axis_font={'size':12}"
   ]
  },
  {
   "cell_type": "markdown",
   "id": "a2688d77",
   "metadata": {},
   "source": [
    "> ### Visualize Top 10 APP Category on Play Store"
   ]
  },
  {
   "cell_type": "code",
   "execution_count": 726,
   "id": "656d94fa",
   "metadata": {},
   "outputs": [],
   "source": [
    "#Figure 1\n",
    "category_counts=app_df['Category'].value_counts().nlargest(10)\n",
    "fig1=px.bar(\n",
    "    x=category_counts.index,\n",
    "    y=category_counts.values,\n",
    "    labels={'x':'Category','y':'Count'},\n",
    "    title='Top Categories on Play Store',\n",
    "    color=category_counts.index,\n",
    "    color_discrete_sequence=px.colors.sequential.Plasma,\n",
    "    width=400,\n",
    "    height=300\n",
    ")\n",
    "fig1.update_layout(\n",
    "    plot_bgcolor='black',\n",
    "    paper_bgcolor='black',\n",
    "    font_color='white',\n",
    "    title_font={'size':16},\n",
    "    xaxis=dict(title_font={'size':12}),\n",
    "    yaxis=dict(title_font={'size':12}),\n",
    "    margin=dict(l=10,r=10,t=30,b=10)\n",
    ")\n",
    "\n",
    "save_plot_as_html(fig1,\"Category Graph 1.html\",\"The top categories on the Play Store are dominated by tools, entertainment, and productivity apps\")\n",
    "            "
   ]
  },
  {
   "cell_type": "markdown",
   "id": "cc629181",
   "metadata": {},
   "source": [
    "> ### Distribution of Free v/ Paid Apps"
   ]
  },
  {
   "cell_type": "code",
   "execution_count": 727,
   "id": "ece289c9",
   "metadata": {},
   "outputs": [],
   "source": [
    "#Figure 2\n",
    "type_counts=app_df['Type'].value_counts()\n",
    "fig2=px.pie(\n",
    "    values=type_counts.values,\n",
    "    names=type_counts.index,\n",
    "    title='App Type Distribution',\n",
    "    color_discrete_sequence=px.colors.sequential.RdBu,\n",
    "    width=400,\n",
    "    height=300\n",
    ")\n",
    "fig2.update_layout(\n",
    "    plot_bgcolor='black',\n",
    "    paper_bgcolor='black',\n",
    "    font_color='white',\n",
    "    title_font={'size':16},\n",
    "    margin=dict(l=10,r=10,t=30,b=10)\n",
    ")\n",
    "save_plot_as_html(fig2,\"Type Graph 2.html\",\"Most apps on the Playstore are free, indicating a strategy to attract users first and monetize through ads or in app purchases\")"
   ]
  },
  {
   "cell_type": "markdown",
   "id": "d7ef51cb",
   "metadata": {},
   "source": [
    "> ### How the App Rating being Distribution"
   ]
  },
  {
   "cell_type": "code",
   "execution_count": 728,
   "id": "30285274",
   "metadata": {},
   "outputs": [],
   "source": [
    "#Figure 3\n",
    "fig3=px.histogram(\n",
    "    app_df,\n",
    "    x='Rating',\n",
    "    nbins=20,\n",
    "    title='Rating Distribution',\n",
    "    color_discrete_sequence=['#636EFA'],\n",
    "    width=400,\n",
    "    height=300\n",
    ")\n",
    "fig3.update_layout(\n",
    "    plot_bgcolor='black',\n",
    "    paper_bgcolor='black',\n",
    "    font_color='white',\n",
    "    title_font={'size':16},\n",
    "    xaxis=dict(title_font={'size':12}),\n",
    "    yaxis=dict(title_font={'size':12}),\n",
    "    margin=dict(l=10,r=10,t=30,b=10)\n",
    ")\n",
    "save_plot_as_html(fig3,\"Rating Graph 3.html\",\"Ratings are skewed towards higher values, suggesting that most apps are rated favorably by users\")"
   ]
  },
  {
   "cell_type": "markdown",
   "id": "0a456155",
   "metadata": {},
   "source": [
    "> ### Sentiment Score"
   ]
  },
  {
   "cell_type": "code",
   "execution_count": 729,
   "id": "f3eb6778",
   "metadata": {},
   "outputs": [],
   "source": [
    "#Figure 4\n",
    "sentiment_counts=reviews_df['Sentiment_Score'].value_counts()\n",
    "fig4=px.bar(\n",
    "    x=sentiment_counts.index,\n",
    "    y=sentiment_counts.values,\n",
    "    labels={'x':'Sentiment Score','y':'Count'},\n",
    "    title='Sentiment Distribution',\n",
    "    color=sentiment_counts.index,\n",
    "    color_discrete_sequence=px.colors.sequential.RdPu,\n",
    "    width=400,\n",
    "    height=300\n",
    ")\n",
    "fig4.update_layout(\n",
    "    plot_bgcolor='black',\n",
    "    paper_bgcolor='black',\n",
    "    font_color='white',\n",
    "    title_font={'size':16},\n",
    "    xaxis=dict(title_font={'size':12}),\n",
    "    yaxis=dict(title_font={'size':12}),\n",
    "    margin=dict(l=10,r=10,t=30,b=10)\n",
    ")\n",
    "save_plot_as_html(fig4,\"Sentiment Graph 4.html\",\"Sentiments in reviews show a mix of positive and negative feedback, with a slight lean towards positive sentiments\")"
   ]
  },
  {
   "cell_type": "markdown",
   "id": "6b088028",
   "metadata": {},
   "source": [
    "> ### Which Category App Have Highest Installs"
   ]
  },
  {
   "cell_type": "code",
   "execution_count": 730,
   "id": "de14c8c4",
   "metadata": {},
   "outputs": [],
   "source": [
    "#Figure 5\n",
    "installs_by_category=app_df.groupby('Category')['Installs'].sum().nlargest(10)\n",
    "fig5=px.bar(\n",
    "    x=installs_by_category.index,\n",
    "    y=installs_by_category.values,\n",
    "    orientation='h',\n",
    "    labels={'x':'Installs','y':'Category'},\n",
    "    title='Installs by Category',\n",
    "    color=installs_by_category.index,\n",
    "    color_discrete_sequence=px.colors.sequential.Blues,\n",
    "    width=400,\n",
    "    height=300\n",
    ")\n",
    "fig5.update_layout(\n",
    "    plot_bgcolor='black',\n",
    "    paper_bgcolor='black',\n",
    "    font_color='white',\n",
    "    title_font={'size':16},\n",
    "    xaxis=dict(title_font={'size':12}),\n",
    "    yaxis=dict(title_font={'size':12}),\n",
    "    margin=dict(l=10,r=10,t=30,b=10)\n",
    ")\n",
    "save_plot_as_html(fig5,\"Installs Graph 5.html\",\"The categories with the most installs are social and communication apps, reflecting their broad appeal and daily usage\")"
   ]
  },
  {
   "cell_type": "markdown",
   "id": "b9a8e8be",
   "metadata": {},
   "source": [
    "> ### Number of Updates Over the Years"
   ]
  },
  {
   "cell_type": "code",
   "execution_count": 731,
   "id": "36a8730f",
   "metadata": {},
   "outputs": [],
   "source": [
    "# Figure 6\n",
    "updates_per_year = app_df['Last Updated'].dt.year.value_counts().sort_index()\n",
    "fig6 = px.line(\n",
    "    x=updates_per_year.index,\n",
    "    y=updates_per_year.values,\n",
    "    labels={'x': 'Year', 'y': 'Number of Updates'},\n",
    "    title='Number of Updates Over the Years',\n",
    "    color_discrete_sequence=['#AB63FA'],\n",
    "    width=plot_width,\n",
    "    height=plot_height\n",
    ")\n",
    "fig6.update_layout(\n",
    "    plot_bgcolor=plot_bg_color,\n",
    "    paper_bgcolor=plot_bg_color,\n",
    "    font_color=text_color,\n",
    "    title_font=title_font,\n",
    "    xaxis=dict(title_font=axis_font),\n",
    "    yaxis=dict(title_font=axis_font),\n",
    "    margin=dict(l=10, r=10, t=30, b=10)\n",
    ")\n",
    "save_plot_as_html(fig6, \"Updates Graph 6.html\", \"Updates have been increasing over the years, showing that developers are actively maintaining and improving their apps.\")"
   ]
  },
  {
   "cell_type": "markdown",
   "id": "0ffada80",
   "metadata": {},
   "source": [
    "> ### Revenue by Category"
   ]
  },
  {
   "cell_type": "code",
   "execution_count": 732,
   "id": "afc45696",
   "metadata": {},
   "outputs": [],
   "source": [
    "#Figure 7\n",
    "revenue_by_category=app_df.groupby('Category')['Revenue'].sum().nlargest(10)\n",
    "fig7=px.bar(\n",
    "    x=installs_by_category.index,\n",
    "    y=installs_by_category.values,\n",
    "    labels={'x':'Category','y':'Revenue'},\n",
    "    title='Revenue by Category',\n",
    "    color=installs_by_category.index,\n",
    "    color_discrete_sequence=px.colors.sequential.Greens,\n",
    "    width=400,\n",
    "    height=300\n",
    ")\n",
    "fig7.update_layout(\n",
    "    plot_bgcolor='black',\n",
    "    paper_bgcolor='black',\n",
    "    font_color='white',\n",
    "    title_font={'size':16},\n",
    "    xaxis=dict(title_font={'size':12}),\n",
    "    yaxis=dict(title_font={'size':12}),\n",
    "    margin=dict(l=10,r=10,t=30,b=10)\n",
    ")\n",
    "save_plot_as_html(fig7,\"Revenue Graph 7.html\",\"Categories such as Business and Productivity lead in revenue generation, indicating their monetization potential\")"
   ]
  },
  {
   "cell_type": "markdown",
   "id": "d77853b4",
   "metadata": {},
   "source": [
    "> ### Top Genres"
   ]
  },
  {
   "cell_type": "code",
   "execution_count": 733,
   "id": "4e28166b",
   "metadata": {},
   "outputs": [],
   "source": [
    "#Figure 8\n",
    "genre_counts=app_df['Genres'].str.split(';',expand=True).stack().value_counts().nlargest(10)\n",
    "fig8=px.bar(\n",
    "    x=genre_counts.index,\n",
    "    y=genre_counts.values,\n",
    "    labels={'x':'Genre','y':'Count'},\n",
    "    title='Top Genres',\n",
    "    color=installs_by_category.index,\n",
    "    color_discrete_sequence=px.colors.sequential.OrRd,\n",
    "    width=400,\n",
    "    height=300\n",
    ")\n",
    "fig8.update_layout(\n",
    "    plot_bgcolor='black',\n",
    "    paper_bgcolor='black',\n",
    "    font_color='white',\n",
    "    title_font={'size':16},\n",
    "    xaxis=dict(title_font={'size':12}),\n",
    "    yaxis=dict(title_font={'size':12}),\n",
    "    margin=dict(l=10,r=10,t=30,b=10)\n",
    ")\n",
    "save_plot_as_html(fig8,\"Genre Graph 8.html\",\"Action and Casual genres are the most common, reflecting users' preference for engaging and easy-to-play games\")"
   ]
  },
  {
   "cell_type": "markdown",
   "id": "2105487d",
   "metadata": {},
   "source": [
    "> ### Impact of Last Update on Rating"
   ]
  },
  {
   "cell_type": "code",
   "execution_count": 734,
   "id": "92aac822",
   "metadata": {},
   "outputs": [],
   "source": [
    "#Figure 9\n",
    "fig9=px.scatter(\n",
    "    app_df,\n",
    "    x='Last Updated',\n",
    "    y='Rating',\n",
    "    color='Type',\n",
    "    title='Impact of Last Update on Rating',\n",
    "    color_discrete_sequence=px.colors.qualitative.Vivid,\n",
    "    width=400,\n",
    "    height=300\n",
    ")\n",
    "fig9.update_layout(\n",
    "    plot_bgcolor='black',\n",
    "    paper_bgcolor='black',\n",
    "    font_color='white',\n",
    "    title_font={'size':16},\n",
    "    xaxis=dict(title_font={'size':12}),\n",
    "    yaxis=dict(title_font={'size':12}),\n",
    "    margin=dict(l=10,r=10,t=30,b=10)\n",
    ")\n",
    "save_plot_as_html(fig9,\"Update Graph 9.html\",\"The Scatter Plot shows a weak correlation between the last update and ratings, suggesting that more frequent updates dont always result in better ratings.\")"
   ]
  },
  {
   "cell_type": "markdown",
   "id": "7b79bb8c",
   "metadata": {},
   "source": [
    "> ### Rating for Paid vs Free Apps"
   ]
  },
  {
   "cell_type": "code",
   "execution_count": 735,
   "id": "b5f4cc6e",
   "metadata": {},
   "outputs": [],
   "source": [
    "#Figure 10\n",
    "fig10=px.box(\n",
    "    app_df,\n",
    "    x='Type',\n",
    "    y='Rating',\n",
    "    color='Type',\n",
    "    title='Rating for Paid vs Free Apps',\n",
    "    color_discrete_sequence=px.colors.qualitative.Pastel,\n",
    "    width=400,\n",
    "    height=300\n",
    ")\n",
    "fig10.update_layout(\n",
    "    plot_bgcolor='black',\n",
    "    paper_bgcolor='black',\n",
    "    font_color='white',\n",
    "    title_font={'size':16},\n",
    "    xaxis=dict(title_font={'size':12}),\n",
    "    yaxis=dict(title_font={'size':12}),\n",
    "    margin=dict(l=10,r=10,t=30,b=10)\n",
    ")\n",
    "save_plot_as_html(fig10,\"Paid Free Graph 10.html\",\"Paid apps generally have higher ratings compared to free apps, suggesting that users expect higher quality from apps they pay for\")"
   ]
  },
  {
   "cell_type": "markdown",
   "id": "28d35176",
   "metadata": {},
   "source": [
    "> # Internship - Task 1"
   ]
  },
  {
   "cell_type": "markdown",
   "id": "af633678",
   "metadata": {},
   "source": [
    "<code>Task 1: Create a scatter plot to visualize the relationship between revenue and the number of installs for paid apps only. Add a trendline to show the correlation and color-code the points based on app categories.</code>"
   ]
  },
  {
   "cell_type": "code",
   "execution_count": null,
   "id": "74742838",
   "metadata": {},
   "outputs": [],
   "source": [
    "app_df.head()"
   ]
  },
  {
   "cell_type": "code",
   "execution_count": null,
   "id": "d96aa1f5",
   "metadata": {},
   "outputs": [],
   "source": [
    "reviews_df.head()"
   ]
  },
  {
   "cell_type": "markdown",
   "id": "462b0eb4",
   "metadata": {},
   "source": [
    "* Filter only Paid apps"
   ]
  },
  {
   "cell_type": "code",
   "execution_count": 738,
   "id": "b8e85d83",
   "metadata": {},
   "outputs": [],
   "source": [
    "paid_apps = app_df[app_df['Type'] == 'Paid'].copy()"
   ]
  },
  {
   "cell_type": "code",
   "execution_count": null,
   "id": "6d64aa66",
   "metadata": {},
   "outputs": [],
   "source": [
    "paid_apps"
   ]
  },
  {
   "cell_type": "code",
   "execution_count": 740,
   "id": "8ffe22ef",
   "metadata": {},
   "outputs": [],
   "source": [
    "paid_apps = paid_apps.dropna(subset=['Revenue', 'Installs', 'Category'])\n",
    "paid_apps = paid_apps[(paid_apps['Revenue'] > 0) & (paid_apps['Installs'] > 0)]\n"
   ]
  },
  {
   "cell_type": "code",
   "execution_count": 741,
   "id": "ba3da178",
   "metadata": {},
   "outputs": [],
   "source": [
    "top_categories = paid_apps['Category'].value_counts().nlargest(10).index\n",
    "paid_apps = paid_apps[paid_apps['Category'].isin(top_categories)]\n"
   ]
  },
  {
   "cell_type": "code",
   "execution_count": 742,
   "id": "71ef25aa",
   "metadata": {},
   "outputs": [],
   "source": [
    "# Ensure 'Installs' and 'Revenue' are numeric\n",
    "paid_apps['Installs'] = pd.to_numeric(paid_apps['Installs'], errors='coerce')\n",
    "paid_apps['Revenue'] = pd.to_numeric(paid_apps['Revenue'], errors='coerce')\n",
    "paid_apps = paid_apps.dropna(subset=['Installs', 'Revenue', 'Category'])"
   ]
  },
  {
   "cell_type": "code",
   "execution_count": 743,
   "id": "8d0ff79d",
   "metadata": {},
   "outputs": [],
   "source": [
    "# SCATTER PLOT FOR PAID APPS\n",
    "fig11 = px.scatter(\n",
    "    paid_apps,\n",
    "    x='Installs',\n",
    "    y='Revenue',\n",
    "    color='Category',\n",
    "    trendline='ols',\n",
    "    title='Revenue vs Installs for Paid Apps',\n",
    "    labels={'Installs': 'Number of Installs', 'Revenue': 'App Revenue'},\n",
    "    color_discrete_sequence=px.colors.qualitative.Set2,\n",
    "    width=400,\n",
    "    height=300\n",
    ")\n",
    "\n",
    "fig11.update_layout(\n",
    "    plot_bgcolor='black',\n",
    "    paper_bgcolor='black',\n",
    "    font_color='white',\n",
    "    title_font=title_font,\n",
    "    xaxis=dict(title_font=axis_font),\n",
    "    yaxis=dict(title_font=axis_font),\n",
    "    margin=dict(l=10, r=10, t=30, b=10)\n",
    ")\n",
    "\n",
    "save_plot_as_html(\n",
    "    fig11,\n",
    "    \"Scatter Graph 11.html\",\n",
    "    \"Higher installs tend to correlate with increased revenue among paid apps, though certain categories outperform others regardless of install base.\"\n",
    ")\n"
   ]
  },
  {
   "cell_type": "markdown",
   "id": "488d730d",
   "metadata": {},
   "source": [
    "---"
   ]
  },
  {
   "cell_type": "markdown",
   "id": "67116c2e",
   "metadata": {},
   "source": [
    "> # Internship - Task 2"
   ]
  },
  {
   "cell_type": "markdown",
   "id": "2bd3edb3",
   "metadata": {},
   "source": [
    "<code>Task 2. Generate a word cloud for the most frequent keywords found in 5-star reviews, but exclude common stopwords and app names. Additionally, filter the reviews to include only those from apps in the \"Health & Fitness\" category.</code>"
   ]
  },
  {
   "cell_type": "markdown",
   "id": "f35b3ed4",
   "metadata": {},
   "source": [
    "### Step 0: Import Required Libraries"
   ]
  },
  {
   "cell_type": "code",
   "execution_count": 744,
   "id": "ffe126a0",
   "metadata": {},
   "outputs": [],
   "source": [
    "import pandas as pd\n",
    "import string\n",
    "import matplotlib.pyplot as plt\n",
    "from wordcloud import WordCloud, STOPWORDS\n"
   ]
  },
  {
   "cell_type": "markdown",
   "id": "33464131",
   "metadata": {},
   "source": [
    "### Step 1: Basic Exploration"
   ]
  },
  {
   "cell_type": "markdown",
   "id": "5becf6ed",
   "metadata": {},
   "source": [
    "* View first 2 apps with a 5-star rating"
   ]
  },
  {
   "cell_type": "code",
   "execution_count": null,
   "id": "2ca6046a",
   "metadata": {},
   "outputs": [],
   "source": [
    "app_df[app_df['Rating'] == 5].head(2)"
   ]
  },
  {
   "cell_type": "markdown",
   "id": "2b204e4a",
   "metadata": {},
   "source": [
    "* View all unique app categories"
   ]
  },
  {
   "cell_type": "code",
   "execution_count": null,
   "id": "edf7b6cf",
   "metadata": {},
   "outputs": [],
   "source": [
    "app_df['Category'].unique()\n"
   ]
  },
  {
   "cell_type": "markdown",
   "id": "f622f672",
   "metadata": {},
   "source": [
    "* View first few 5-star apps from HEALTH_AND_FITNESS category"
   ]
  },
  {
   "cell_type": "code",
   "execution_count": null,
   "id": "771e6861",
   "metadata": {},
   "outputs": [],
   "source": [
    "app_df[(app_df['Rating'] == 5) & (app_df['Category'] == 'HEALTH_AND_FITNESS')].head(2)\n"
   ]
  },
  {
   "cell_type": "markdown",
   "id": "b69e8971",
   "metadata": {},
   "source": [
    "* Count of HEALTH_AND_FITNESS apps with 5-star rating"
   ]
  },
  {
   "cell_type": "code",
   "execution_count": null,
   "id": "2ed5b830",
   "metadata": {},
   "outputs": [],
   "source": [
    "count = app_df[(app_df['Rating'] == 5) & (app_df['Category'] == 'HEALTH_AND_FITNESS')].shape[0]\n",
    "print(f\"HEALTH_AND_FITNESS apps with Rating 5: {count}\")\n"
   ]
  },
  {
   "cell_type": "markdown",
   "id": "02159754",
   "metadata": {},
   "source": [
    "###  Step 2: Load and Preview Reviews Dataset"
   ]
  },
  {
   "cell_type": "code",
   "execution_count": null,
   "id": "798a96dd",
   "metadata": {},
   "outputs": [],
   "source": [
    "reviews_df.head(2)"
   ]
  },
  {
   "cell_type": "markdown",
   "id": "2a91ad94",
   "metadata": {},
   "source": [
    "###  Step 3: Merge app data and review data"
   ]
  },
  {
   "cell_type": "code",
   "execution_count": 750,
   "id": "6c29e18b",
   "metadata": {},
   "outputs": [],
   "source": [
    "merge_df = pd.merge(reviews_df, app_df, on='App', how='inner')"
   ]
  },
  {
   "cell_type": "markdown",
   "id": "caa9212d",
   "metadata": {},
   "source": [
    "###  Step 4: Filter HEALTH_AND_FITNESS apps with Rating = 5"
   ]
  },
  {
   "cell_type": "code",
   "execution_count": null,
   "id": "840f25cd",
   "metadata": {},
   "outputs": [],
   "source": [
    "# Filter the merged DataFrame\n",
    "filtered_df = merge_df[\n",
    "    (merge_df['Category'] == 'HEALTH_AND_FITNESS') &\n",
    "    (merge_df['Rating'] == 5.0)\n",
    "]\n",
    "filtered_df.head()\n"
   ]
  },
  {
   "cell_type": "code",
   "execution_count": 752,
   "id": "521360ef",
   "metadata": {},
   "outputs": [],
   "source": [
    "# Strip and lower-case app names\n",
    "app_df['App'] = app_df['App'].str.strip().str.lower()\n",
    "reviews_df['App'] = reviews_df['App'].str.strip().str.lower()\n"
   ]
  },
  {
   "cell_type": "code",
   "execution_count": null,
   "id": "bbbe4a11",
   "metadata": {},
   "outputs": [],
   "source": [
    "merge_df = pd.merge(reviews_df, app_df, on='App', how='inner')\n",
    "\n",
    "filtered_df = merge_df[\n",
    "    (merge_df['Category'] == 'HEALTH_AND_FITNESS') &\n",
    "    (merge_df['Rating'] == 5.0)\n",
    "]\n",
    "print(filtered_df.shape[0])  # Should be more than 0 now if there were matching apps\n"
   ]
  },
  {
   "cell_type": "markdown",
   "id": "74196a72",
   "metadata": {},
   "source": [
    "<code>No 5-star reviews found for apps in the Health & Fitness category in the dataset.\n",
    "Hence, word cloud could not be generated for this segment.</code>"
   ]
  },
  {
   "cell_type": "markdown",
   "id": "b4bad1ee",
   "metadata": {},
   "source": [
    "---"
   ]
  },
  {
   "cell_type": "markdown",
   "id": "2735185f",
   "metadata": {},
   "source": [
    "> # Internship - Task 3"
   ]
  },
  {
   "cell_type": "markdown",
   "id": "9d0168a5",
   "metadata": {},
   "source": [
    "<code>Task 3: Visualize the sentiment distribution (positive, neutral, negative) of user reviews using a stacked bar chart, segmented by rating groups (e.g., 1-2 stars, 3-4 stars, 4-5 stars). Include only apps with more than 1,000 reviews and group by the top 5 categories.</code>"
   ]
  },
  {
   "cell_type": "code",
   "execution_count": 754,
   "id": "6db333c5",
   "metadata": {},
   "outputs": [],
   "source": [
    "import pandas as pd\n",
    "import plotly.express as px"
   ]
  },
  {
   "cell_type": "markdown",
   "id": "109fc3fd",
   "metadata": {},
   "source": [
    "### Step 1: Clean and standardize app names"
   ]
  },
  {
   "cell_type": "code",
   "execution_count": 755,
   "id": "a05ab490",
   "metadata": {},
   "outputs": [],
   "source": [
    "app_df['App'] = app_df['App'].str.strip().str.lower()\n",
    "reviews_df['App'] = reviews_df['App'].str.strip().str.lower()"
   ]
  },
  {
   "cell_type": "markdown",
   "id": "6d3a1033",
   "metadata": {},
   "source": [
    "### Step 2: Merge datasets"
   ]
  },
  {
   "cell_type": "code",
   "execution_count": 756,
   "id": "062d9aa7",
   "metadata": {},
   "outputs": [],
   "source": [
    "merged_df = pd.merge(reviews_df, app_df, on='App', how='inner')"
   ]
  },
  {
   "cell_type": "markdown",
   "id": "605e4a31",
   "metadata": {},
   "source": [
    "### Step 3: Filter apps with >1000 reviews"
   ]
  },
  {
   "cell_type": "code",
   "execution_count": 757,
   "id": "2c5b7d32",
   "metadata": {},
   "outputs": [],
   "source": [
    "review_counts = merged_df['App'].value_counts()\n",
    "apps_with_1000_reviews = review_counts[review_counts > 1000].index\n",
    "filtered_df = merged_df[merged_df['App'].isin(apps_with_1000_reviews)]\n"
   ]
  },
  {
   "cell_type": "markdown",
   "id": "aa949a59",
   "metadata": {},
   "source": [
    "### Step 4: Define rating groups"
   ]
  },
  {
   "cell_type": "code",
   "execution_count": null,
   "id": "7d94230f",
   "metadata": {},
   "outputs": [],
   "source": [
    "def rating_group(r):\n",
    "    if pd.isnull(r):\n",
    "        return None\n",
    "    elif r <= 2:\n",
    "        return '1-2 Stars'\n",
    "    elif r <= 4:\n",
    "        return '3-4 Stars'\n",
    "    else:\n",
    "        return '4-5 Stars'\n",
    "\n",
    "filtered_df['Rating Group'] = filtered_df['Rating'].apply(rating_group)\n"
   ]
  },
  {
   "cell_type": "markdown",
   "id": "2217ad6a",
   "metadata": {},
   "source": [
    "### Step 5: Filter to Top 5 Categories"
   ]
  },
  {
   "cell_type": "code",
   "execution_count": 759,
   "id": "0ded9a78",
   "metadata": {},
   "outputs": [],
   "source": [
    "top_5_categories = app_df['Category'].value_counts().head(5).index\n",
    "filtered_df = filtered_df[filtered_df['Category'].isin(top_5_categories)]"
   ]
  },
  {
   "cell_type": "markdown",
   "id": "2ae6a712",
   "metadata": {},
   "source": [
    "### Step 6: Group by Category, Rating Group, and Sentiment\n"
   ]
  },
  {
   "cell_type": "code",
   "execution_count": 760,
   "id": "dcd95aaf",
   "metadata": {},
   "outputs": [],
   "source": [
    "sentiment_counts = filtered_df.groupby(['Category', 'Rating Group', 'Sentiment_Score']).size().reset_index(name='Count')"
   ]
  },
  {
   "cell_type": "markdown",
   "id": "d93ef8d4",
   "metadata": {},
   "source": [
    "### Step 7: Plotly stacked bar chart\n"
   ]
  },
  {
   "cell_type": "code",
   "execution_count": 761,
   "id": "b867bfa3",
   "metadata": {},
   "outputs": [],
   "source": [
    "# STACKED BAR SENTIMENT DISTRIBUTION\n",
    "fig12 = px.bar(\n",
    "    sentiment_counts,\n",
    "    x='Category',\n",
    "    y='Count',\n",
    "    color='Sentiment_Score',\n",
    "    barmode='stack',\n",
    "    facet_col='Rating Group',\n",
    "    color_discrete_sequence=px.colors.sequential.RdPu,\n",
    "    labels={'Count': 'Review Count', 'Category': 'App Category'},\n",
    "    title='Sentiment Distribution by Rating Group for Top 5 App Categories (Apps with >1000 Reviews)',\n",
    "    width=400,\n",
    "    height=300\n",
    ")\n",
    "\n",
    "fig12.update_layout(\n",
    "    plot_bgcolor='black',\n",
    "    paper_bgcolor='black',\n",
    "    font_color='white',\n",
    "    title_font=title_font,\n",
    "    xaxis=dict(title_font=axis_font),\n",
    "    yaxis=dict(title_font=axis_font),\n",
    "    margin=dict(l=10, r=10, t=30, b=10)\n",
    ")\n",
    "\n",
    "fig12.update_xaxes(tickangle=45)\n",
    "\n",
    "save_plot_as_html(\n",
    "    fig12,\n",
    "    \"Sentiment Graph 12.html\",\n",
    "    \"This stacked bar chart reveals how sentiment varies by rating groups across top app categories with more than 1000 reviews.\"\n",
    ")\n"
   ]
  },
  {
   "cell_type": "markdown",
   "id": "0fbfd5c7",
   "metadata": {},
   "source": [
    "---"
   ]
  },
  {
   "cell_type": "markdown",
   "id": "291cfff5",
   "metadata": {},
   "source": [
    "> # Internship - Task 4"
   ]
  },
  {
   "cell_type": "markdown",
   "id": "8e2f68ac",
   "metadata": {},
   "source": [
    "<code> Task 4. Use a grouped bar chart to compare the average rating and total review count for the top 10 app categories by number of installs. Filter out any categories where the average rating is below 4.0 and size below 10 M and last update should be Jan month . this graph should work only between 3PM IST to 5 PM IST apart from that time we should not show this graph in dashboard itself.</code>"
   ]
  },
  {
   "cell_type": "code",
   "execution_count": 762,
   "id": "68d27be0",
   "metadata": {},
   "outputs": [],
   "source": [
    "import pandas as pd\n",
    "import plotly.express as px\n",
    "from datetime import datetime\n",
    "import pytz"
   ]
  },
  {
   "cell_type": "markdown",
   "id": "ba6ec74a",
   "metadata": {},
   "source": [
    "Step 1: Convert relevant columns"
   ]
  },
  {
   "cell_type": "code",
   "execution_count": 763,
   "id": "a7fe02b6",
   "metadata": {},
   "outputs": [],
   "source": [
    "# --- Step 1: Convert relevant columns ---\n",
    "app_df['Installs'] = app_df['Installs'].replace('[+,]', '', regex=True).astype(int)\n",
    "app_df['Size'] = app_df['Size'].replace('M', '', regex=False).replace('k', '', regex=False).replace('Varies with device', None)\n",
    "app_df['Size'] = pd.to_numeric(app_df['Size'], errors='coerce')\n",
    "app_df['Last Updated'] = pd.to_datetime(app_df['Last Updated'], errors='coerce')\n"
   ]
  },
  {
   "cell_type": "code",
   "execution_count": 764,
   "id": "821b7a73",
   "metadata": {},
   "outputs": [],
   "source": [
    "# --- Step 2: Filter conditions ---\n",
    "filtered_apps = app_df[\n",
    "    (app_df['Rating'] >= 4.0) &\n",
    "    (app_df['Size'] >= 10) &\n",
    "    (app_df['Last Updated'].dt.month == 1)\n",
    "]"
   ]
  },
  {
   "cell_type": "code",
   "execution_count": null,
   "id": "62651ddf",
   "metadata": {},
   "outputs": [],
   "source": [
    "filtered_apps.head(2)"
   ]
  },
  {
   "cell_type": "code",
   "execution_count": 766,
   "id": "a568cd47",
   "metadata": {},
   "outputs": [],
   "source": [
    "# --- Step 3: Group by Category and aggregate ---\n",
    "category_grouped = filtered_apps.groupby('Category').agg({\n",
    "    'Installs': 'sum',\n",
    "    'Rating': 'mean',\n",
    "    'Reviews': 'sum'\n",
    "}).reset_index()\n"
   ]
  },
  {
   "cell_type": "code",
   "execution_count": 767,
   "id": "b3e978d8",
   "metadata": {},
   "outputs": [],
   "source": [
    "# --- Step 4: Top 10 categories by installs ---\n",
    "top10 = category_grouped.sort_values(by='Installs', ascending=False).head(10)"
   ]
  },
  {
   "cell_type": "code",
   "execution_count": 768,
   "id": "d64a63ee",
   "metadata": {},
   "outputs": [],
   "source": [
    "# --- Step 5: Melt for grouped bar plot ---\n",
    "melted = top10.melt(id_vars='Category', value_vars=['Rating', 'Reviews'], var_name='Metric', value_name='Value')\n"
   ]
  },
  {
   "cell_type": "code",
   "execution_count": 769,
   "id": "8afd0bd7",
   "metadata": {},
   "outputs": [],
   "source": [
    "# --- Step 6: Time Check for 3–5 PM IST ---\n",
    "ist = pytz.timezone('Asia/Kolkata')\n",
    "now = datetime.now(ist)\n",
    "show_plot = now.hour >= 15 and now.hour < 17\n"
   ]
  },
  {
   "cell_type": "code",
   "execution_count": null,
   "id": "fb8898a0",
   "metadata": {},
   "outputs": [],
   "source": [
    "# --- Step 7: Plot if within time ---\n",
    "if show_plot:\n",
    "    fig13 = px.bar(\n",
    "        melted,\n",
    "        x='Category',\n",
    "        y='Value',\n",
    "        color='Metric',\n",
    "        barmode='group',\n",
    "        title='Avg Rating & Total Reviews for Top 10 Categories (Installs-wise)',\n",
    "        color_discrete_sequence=px.colors.qualitative.Vivid,\n",
    "        labels={'Value': 'Metric Value'}\n",
    "    )\n",
    "\n",
    "    fig13.update_layout(\n",
    "        plot_bgcolor='black',\n",
    "        paper_bgcolor='black',\n",
    "        font_color='white',\n",
    "        title_font={'size': 18},\n",
    "        xaxis=dict(title_font={'size': 14}),\n",
    "        yaxis=dict(title_font={'size': 14}),\n",
    "        margin=dict(l=30, r=30, t=50, b=30)\n",
    "    )\n",
    "\n",
    "    fig13.update_xaxes(tickangle=45)\n",
    "\n",
    "    # Save the graph only if shown\n",
    "    save_plot_as_html(\n",
    "        fig13,\n",
    "        \"Grouped_Bar_Top10_Categories_3to5PM.html\",\n",
    "        \"Grouped bar chart showing avg rating & review count for top 10 categories, only visible from 3–5 PM IST.\"\n",
    "    )\n",
    "else:\n",
    "    print(\"Current IST time is outside 3 PM - 5 PM. Skipping graph.\")"
   ]
  },
  {
   "cell_type": "markdown",
   "id": "383b32d8",
   "metadata": {},
   "source": [
    "---"
   ]
  },
  {
   "cell_type": "markdown",
   "id": "bac0598e",
   "metadata": {},
   "source": [
    "> # Internship - Task 5"
   ]
  },
  {
   "cell_type": "markdown",
   "id": "906a4cfa",
   "metadata": {},
   "source": [
    "<code> Task 5: Create an interactive Choropleth map using Plotly to visualize global installs by Category. Apply filters to show data for only the top 5 app categories and highlight category where the number of installs exceeds 1 million. The app category should not start with the characters “A,” “C,” “G,” or “S.” This graph should work only between 6 PM IST and 8 PM IST; apart from that time, we should not show it in the dashboard itself.</code>"
   ]
  },
  {
   "cell_type": "code",
   "execution_count": 771,
   "id": "e7115bd4",
   "metadata": {},
   "outputs": [],
   "source": [
    "# --- Step 1: Time Gate (6 PM – 8 PM IST) ---\n",
    "ist = pytz.timezone('Asia/Kolkata')\n",
    "now = datetime.now(ist)\n",
    "show_choropleth = 18 <= now.hour < 20"
   ]
  },
  {
   "cell_type": "code",
   "execution_count": null,
   "id": "b7b0cfb9",
   "metadata": {},
   "outputs": [],
   "source": [
    "if show_choropleth:\n",
    "    # --- Step 2: Preprocessing ---\n",
    "\n",
    "    # Clean installs\n",
    "    app_df['Installs'] = app_df['Installs'].replace('[+,]', '', regex=True).astype(int)\n",
    "\n",
    "    # Remove categories starting with A, C, G, S\n",
    "    app_df = app_df[~app_df['Category'].str.startswith(tuple('ACGS'))]\n",
    "\n",
    "    # Filter: only installs > 1M\n",
    "    app_df = app_df[app_df['Installs'] > 1_000_000]\n",
    "\n",
    "    # For demonstration, assume a Country column exists\n",
    "    # If not, simulate one for visualization\n",
    "    if 'Country' not in app_df.columns:\n",
    "        import numpy as np\n",
    "        countries = ['IN', 'US', 'GB', 'CA', 'AU', 'BR', 'DE', 'FR', 'RU', 'JP']\n",
    "        app_df['Country'] = np.random.choice(countries, size=len(app_df))\n",
    "\n",
    "    # --- Step 3: Get Top 5 categories by total installs ---\n",
    "    top_categories = (\n",
    "        app_df.groupby('Category')['Installs']\n",
    "        .sum()\n",
    "        .sort_values(ascending=False)\n",
    "        .head(5)\n",
    "        .index\n",
    "    )\n",
    "\n",
    "    filtered = app_df[app_df['Category'].isin(top_categories)]\n",
    "\n",
    "    # --- Step 4: Aggregate installs by Country + Category ---\n",
    "    grouped = (\n",
    "        filtered.groupby(['Country', 'Category'])['Installs']\n",
    "        .sum()\n",
    "        .reset_index()\n",
    "    )\n",
    "\n",
    "    # --- Step 5: Choropleth Map ---\n",
    "    fig14 = px.choropleth(\n",
    "        grouped,\n",
    "        locations='Country',\n",
    "        color='Installs',\n",
    "        hover_name='Category',\n",
    "        locationmode='ISO-3',\n",
    "        color_continuous_scale=px.colors.sequential.YlOrRd,\n",
    "        labels={'Installs': 'Install Count'},\n",
    "        title='Global Installs by App Category (Top 5 Only, >1M installs)',\n",
    "        height=600,\n",
    "        width=1000\n",
    "    )\n",
    "\n",
    "    fig14.update_layout(\n",
    "        geo=dict(\n",
    "            showframe=False,\n",
    "            showcoastlines=True,\n",
    "            projection_type='equirectangular'\n",
    "        ),\n",
    "        plot_bgcolor='black',\n",
    "        paper_bgcolor='black',\n",
    "        font_color='white',\n",
    "        title_font={'size': 20},\n",
    "        margin=dict(l=30, r=30, t=50, b=30)\n",
    "    )\n",
    "\n",
    "    # --- Step 6: Save ---\n",
    "    save_plot_as_html(\n",
    "        fig14,\n",
    "        \"Choropleth_Installs_By_Category.html\",\n",
    "        \"Choropleth map of installs by country and category (Top 5 categories >1M installs, category names not starting with A/C/G/S). Shown only 6–8 PM IST.\"\n",
    "    )\n",
    "\n",
    "else:\n",
    "    print(\"Current IST time is outside 6 - 8 PM. Choropleth map will not be generated.\")"
   ]
  },
  {
   "cell_type": "markdown",
   "id": "0168b5f5",
   "metadata": {},
   "source": [
    "---"
   ]
  },
  {
   "cell_type": "markdown",
   "id": "60c24aba",
   "metadata": {},
   "source": [
    "> # Internship - Task 6\n",
    "<code> Task 6: Create a dual-axis chart comparing the average installs and revenue for free vs. paid apps within the top 3 app categories. Apply filters to exclude apps with fewer than 10,000 installs and revenue below $10,000 and android version should be more than 4.0 as well as size should be more than 15M and content rating should be Everyone and app name should not have more than 30 characters including space and special character .this graph should work only between 1 PM IST to 2 PM IST apart from that time we should not show this graph in dashboard itself.</code>"
   ]
  },
  {
   "cell_type": "code",
   "execution_count": 773,
   "id": "4849c4ee",
   "metadata": {},
   "outputs": [],
   "source": [
    "import plotly.graph_objects as go\n",
    "from datetime import datetime\n",
    "import pytz\n",
    "\n",
    "# Set IST timezone\n",
    "ist = pytz.timezone('Asia/Kolkata')\n",
    "now = datetime.now(ist)\n",
    "current_hour = now.hour\n",
    "\n",
    "# Task 6 should only run between 1 PM and 2 PM IST\n",
    "if 13 <= current_hour < 14:\n",
    "    \n",
    "    # Clean Type column to ensure consistent values\n",
    "    app_df['Type'] = app_df['Type'].astype(str).str.strip().str.capitalize()\n",
    "\n",
    "    # Filter as per task\n",
    "    filtered_df = app_df[\n",
    "    (app_df['Installs'] >= 10000) &\n",
    "    (app_df['Revenue'] >= 10000) &\n",
    "    (app_df['Android Ver'].astype(str).str.extract(r'(\\d+\\.?\\d*)').astype(float)[0] > 4.0) &\n",
    "    (app_df['Size'].astype(str).str.replace('M', '', regex=False).replace('Varies with device', np.nan).astype(float) > 15) &\n",
    "    (app_df['Content Rating'] == 'Everyone') &\n",
    "    (app_df['App'].astype(str).str.len() <= 30)\n",
    "    ]\n",
    "\n",
    "\n",
    "    # Get top 3 categories by count\n",
    "    top_categories = (\n",
    "        filtered_df['Category']\n",
    "        .value_counts()\n",
    "        .head(3)\n",
    "        .index\n",
    "    )\n",
    "\n",
    "    filtered_df = filtered_df[filtered_df['Category'].isin(top_categories)]\n",
    "\n",
    "    # Create pivot tables\n",
    "    installs_pivot = filtered_df.pivot_table(index='Category', columns='Type', values='Installs', aggfunc='mean')\n",
    "    revenue_pivot = filtered_df.pivot_table(index='Category', columns='Type', values='Revenue', aggfunc='mean')\n",
    "\n",
    "    # Plot\n",
    "    fig15 = go.Figure()\n",
    "\n",
    "    # Bar for Installs\n",
    "    for t in ['Free', 'Paid']:\n",
    "        if t in installs_pivot.columns:\n",
    "            fig15.add_trace(go.Bar(\n",
    "                x=installs_pivot.index,\n",
    "                y=installs_pivot[t],\n",
    "                name=f'Avg Installs ({t})',\n",
    "                marker=dict(color='lightblue' if t == 'Free' else 'lightgreen'),\n",
    "                yaxis='y1'\n",
    "            ))\n",
    "\n",
    "    # Line for Revenue\n",
    "    for t in ['Free', 'Paid']:\n",
    "        if t in revenue_pivot.columns:\n",
    "            fig15.add_trace(go.Scatter(\n",
    "                x=revenue_pivot.index,\n",
    "                y=revenue_pivot[t],\n",
    "                name=f'Avg Revenue ({t})',\n",
    "                mode='lines+markers',\n",
    "                marker=dict(symbol='circle'),\n",
    "                yaxis='y2'\n",
    "            ))\n",
    "\n",
    "    # Layout\n",
    "    fig15.update_layout(\n",
    "        title='Avg Installs vs Revenue by App Type (Top 3 Categories)',\n",
    "        xaxis=dict(title='App Category'),\n",
    "        yaxis=dict(title='Average Installs', side='left'),\n",
    "        yaxis2=dict(title='Average Revenue ($)', overlaying='y', side='right'),\n",
    "        barmode='group',\n",
    "        plot_bgcolor='black',\n",
    "        paper_bgcolor='black',\n",
    "        font_color='white',\n",
    "        title_font=title_font,\n",
    "        xaxis_title_font=axis_font,\n",
    "        yaxis_title_font=axis_font,\n",
    "        yaxis2_title_font=axis_font,\n",
    "        legend=dict(bgcolor='black'),\n",
    "        width=600,\n",
    "        height=400,\n",
    "        margin=dict(l=10, r=10, t=30, b=10)\n",
    "    )\n",
    "\n",
    "    # Save\n",
    "    save_plot_as_html(\n",
    "        fig15,\n",
    "        \"Dual Axis Graph 15.html\",\n",
    "        \"Dual-axis chart comparing installs and revenue for Free vs Paid apps in top 3 categories (filtered by installs, revenue, android version, size, content rating, app name length).\"\n",
    "    )\n",
    "\n",
    "else:\n",
    "    print(\"Task 6: Skipped. Not in valid time window (1 PM – 2 PM IST).\")\n"
   ]
  },
  {
   "cell_type": "markdown",
   "id": "4fdd614c",
   "metadata": {},
   "source": [
    "---"
   ]
  },
  {
   "cell_type": "code",
   "execution_count": 681,
   "id": "75a1fc96",
   "metadata": {},
   "outputs": [],
   "source": [
    "plot_containers_split=plot_containers.split('</div>')"
   ]
  },
  {
   "cell_type": "code",
   "execution_count": 682,
   "id": "1ba4c309",
   "metadata": {},
   "outputs": [],
   "source": [
    "if len(plot_containers_split) > 1:\n",
    "    final_plot=plot_containers_split[-2]+'</div>'\n",
    "else:\n",
    "    final_plot=plot_containers"
   ]
  },
  {
   "cell_type": "code",
   "execution_count": 780,
   "id": "2d7c4e1e",
   "metadata": {},
   "outputs": [],
   "source": [
    "dashboard_html = \"\"\"\n",
    "<!DOCTYPE html>\n",
    "<html lang=\"en\">\n",
    "<head>\n",
    "    <meta charset=\"UTF-8\">\n",
    "    <meta name=\"viewport\" content=\"width=device-width, initial-scale=1.0\">\n",
    "    <title>Google Play Store Review Analytics</title>\n",
    "    <style>\n",
    "        body {{\n",
    "            font-family: Arial, sans-serif;\n",
    "            background-color: #333;\n",
    "            color: #fff;\n",
    "            margin: 0;\n",
    "            padding: 0;\n",
    "        }}\n",
    "        .header {{\n",
    "            display: flex;\n",
    "            align-items: center;\n",
    "            justify-content: center;\n",
    "            padding: 20px;\n",
    "            background-color: #444;\n",
    "            flex-wrap: wrap;\n",
    "            text-align: center;\n",
    "        }}\n",
    "        .header img {{\n",
    "            margin: 10px;\n",
    "            height: 50px;\n",
    "        }}\n",
    "        .container {{\n",
    "            display: flex;\n",
    "            flex-wrap: wrap;\n",
    "            justify-content: center;\n",
    "            padding: 20px;\n",
    "        }}\n",
    "        .plot-container {{\n",
    "            border: 2px solid #555;\n",
    "            margin: 10px;\n",
    "            padding: 10px;\n",
    "            width: {plot_width}px;\n",
    "            height: {plot_height}px;\n",
    "            overflow: auto;\n",
    "            position: relative;\n",
    "            background-color: #222;\n",
    "            border-radius: 8px;\n",
    "        }}\n",
    "        .insights {{\n",
    "            display: none;\n",
    "            position: absolute;\n",
    "            right: 10px;\n",
    "            top: 10px;\n",
    "            background-color: rgba(0,0,0,0.7);\n",
    "            padding: 5px;\n",
    "            border-radius: 5px;\n",
    "            color: #fff;\n",
    "        }}\n",
    "        .plot-container:hover .insights {{\n",
    "            display: block;\n",
    "        }}\n",
    "    </style>\n",
    "    <script>\n",
    "        function openPlot(filename) {{\n",
    "            window.open(filename, '_blank');\n",
    "        }}\n",
    "    </script>\n",
    "</head>\n",
    "<body>\n",
    "    <div class=\"header\">\n",
    "        <img src=\"https://upload.wikimedia.org/wikipedia/commons/thumb/4/4a/Logo_2013_Google.png/800px-Logo_2013_Google.png\" alt=\"Google Logo\">\n",
    "        <h1>Google Play Store Reviews Analytics</h1>\n",
    "        <img src=\"https://upload.wikimedia.org/wikipedia/commons/thumb/7/78/Google_Play_Store_badge_EN.svg/1024px-Google_Play_Store_badge_EN.svg.png\" alt=\"Google Play Store Logo\">\n",
    "    </div>\n",
    "    <div class=\"container\">\n",
    "        {plots}\n",
    "    </div>\n",
    "</body>\n",
    "</html>\n",
    "\"\"\"\n"
   ]
  },
  {
   "cell_type": "code",
   "execution_count": 781,
   "id": "dcb57c37",
   "metadata": {},
   "outputs": [],
   "source": [
    "final_html=dashboard_html.format(plots=plot_containers,plot_width=plot_width,plot_height=plot_height)"
   ]
  },
  {
   "cell_type": "code",
   "execution_count": 782,
   "id": "7c08b350",
   "metadata": {},
   "outputs": [],
   "source": [
    "dashboard_path=os.path.join(html_files_path,\"web page.html\")"
   ]
  },
  {
   "cell_type": "code",
   "execution_count": 783,
   "id": "71b4ceb0",
   "metadata": {},
   "outputs": [],
   "source": [
    "with open(dashboard_path, \"w\", encoding=\"utf-8\") as f:\n",
    "    f.write(final_html)"
   ]
  }
 ],
 "metadata": {
  "kernelspec": {
   "display_name": "Python 3",
   "language": "python",
   "name": "python3"
  },
  "language_info": {
   "codemirror_mode": {
    "name": "ipython",
    "version": 3
   },
   "file_extension": ".py",
   "mimetype": "text/x-python",
   "name": "python",
   "nbconvert_exporter": "python",
   "pygments_lexer": "ipython3",
   "version": "3.11.0"
  }
 },
 "nbformat": 4,
 "nbformat_minor": 5
}
